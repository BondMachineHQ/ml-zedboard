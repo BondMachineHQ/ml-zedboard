{
 "cells": [
  {
   "cell_type": "code",
   "execution_count": null,
   "metadata": {},
   "outputs": [],
   "source": [
    "# load libraries\n",
    "\n",
    "import numpy as np\n",
    "from axi_stream_driver import NeuralNetworkOverlay"
   ]
  },
  {
   "cell_type": "code",
   "execution_count": null,
   "metadata": {},
   "outputs": [],
   "source": [
    "# load datasets and get the first 64 samples\n",
    "\n",
    "X_test = np.load('hls4ml_lhc_jets_hlf_X_test.npy')\n",
    "y_test = np.load('hls4ml_lhc_jets_hlf_y_test.npy')\n",
    "\n",
    "X_test = X_test[:64]\n",
    "y_test = y_test[:64]"
   ]
  },
  {
   "cell_type": "code",
   "execution_count": null,
   "metadata": {},
   "outputs": [],
   "source": [
    "# load bitstream\n",
    "\n",
    "nn = NeuralNetworkOverlay('nn_mlp.bit', X_test.shape, y_test.shape)"
   ]
  },
  {
   "cell_type": "code",
   "execution_count": null,
   "metadata": {},
   "outputs": [],
   "source": [
    "# exec prediction\n",
    "\n",
    "y_hw, latency, throughput = nn.predict(X_test, profile=True, debug=True)"
   ]
  },
  {
   "cell_type": "code",
   "execution_count": null,
   "metadata": {},
   "outputs": [],
   "source": [
    "# import libraries and get accuracy\n",
    "\n",
    "from sklearn.metrics import accuracy_score\n",
    "print(\"Accuracy hls4ml, ebaz4205: {}\".format(accuracy_score(np.argmax(y_test, axis=1), np.argmax(y_hw, axis=1))))"
   ]
  }
 ],
 "metadata": {
  "kernelspec": {
   "display_name": "Python 3.8.10 64-bit",
   "language": "python",
   "name": "python3"
  },
  "language_info": {
   "name": "python",
   "version": "3.8.10"
  },
  "orig_nbformat": 4,
  "vscode": {
   "interpreter": {
    "hash": "916dbcbb3f70747c44a77c7bcd40155683ae19c65e1c03b4aa3499c5328201f1"
   }
  }
 },
 "nbformat": 4,
 "nbformat_minor": 2
}
